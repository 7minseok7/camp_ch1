{
 "cells": [
  {
   "cell_type": "code",
   "execution_count": 1,
   "id": "b4f66d5f-4119-439b-961a-17042affa680",
   "metadata": {},
   "outputs": [],
   "source": [
    "# 기본 과제 구현\n",
    "class Person:\n",
    "    def __init__(self):\n",
    "        self.age = int(input('나이:'))\n",
    "        self.name = input('이름:')\n",
    "        while 1:\n",
    "            g = input('성별:')\n",
    "            if g in ['male', 'female']: break\n",
    "            else: print('''잘못된 성별을 입력하셨습니다. 'male' 또는 'female'을 입력하세요.''')\n",
    "        self.gender = g\n",
    "    def display(self):\n",
    "        print(f'이름: {self.name}, 성별: {self.gender}\\n나이: {self.age}')"
   ]
  },
  {
   "cell_type": "code",
   "execution_count": 2,
   "id": "5c191add-5342-441c-947a-a16726c5826a",
   "metadata": {},
   "outputs": [
    {
     "name": "stdin",
     "output_type": "stream",
     "text": [
      "나이: 50\n",
      "이름: 홍길동\n",
      "성별: 남\n"
     ]
    },
    {
     "name": "stdout",
     "output_type": "stream",
     "text": [
      "잘못된 성별을 입력하셨습니다. 'male' 또는 'female'을 입력하세요.\n"
     ]
    },
    {
     "name": "stdin",
     "output_type": "stream",
     "text": [
      "성별: male\n"
     ]
    }
   ],
   "source": [
    "guildong = Person()"
   ]
  },
  {
   "cell_type": "code",
   "execution_count": 3,
   "id": "d90cd8d4-ee41-444a-a007-901b2529e302",
   "metadata": {},
   "outputs": [
    {
     "name": "stdout",
     "output_type": "stream",
     "text": [
      "이름: 홍길동, 성별: male\n",
      "나이: 50\n"
     ]
    }
   ],
   "source": [
    "guildong.display()"
   ]
  },
  {
   "cell_type": "code",
   "execution_count": 4,
   "id": "ec86a6bc-20d0-4c29-b835-90e135d46c0e",
   "metadata": {},
   "outputs": [],
   "source": [
    "# 심화 과제까지 구현\n",
    "class Person:\n",
    "    def __init__(self):\n",
    "        self.age = int(input('나이:'))\n",
    "        self.name = input('이름:')\n",
    "        while 1:\n",
    "            g = input('성별:')\n",
    "            if g in ['male', 'female']: break\n",
    "            else: print('''잘못된 성별을 입력하셨습니다. 'male' 또는 'female'을 입력하세요.''')\n",
    "        self.gender = g\n",
    "    def display(self):\n",
    "        print(f'이름: {self.name}, 성별: {self.gender}\\n나이: {self.age}')\n",
    "    def greet(self):\n",
    "        char = '성인' if (a := self.age) >= 20 else '청소년' if a >= 14 else '어린'\n",
    "        print(f'안녕하세요, {self.name}! {char}이시군요!')"
   ]
  },
  {
   "cell_type": "code",
   "execution_count": 5,
   "id": "698fac20-d8bd-4e6e-b9e8-28fb14dbc03a",
   "metadata": {},
   "outputs": [
    {
     "name": "stdin",
     "output_type": "stream",
     "text": [
      "나이: 11\n",
      "이름: 김철수\n",
      "성별: male\n"
     ]
    }
   ],
   "source": [
    "kid1 = Person()"
   ]
  },
  {
   "cell_type": "code",
   "execution_count": 6,
   "id": "a6133248-69cc-45a7-a8ca-3e5c34e7e640",
   "metadata": {},
   "outputs": [
    {
     "name": "stdout",
     "output_type": "stream",
     "text": [
      "안녕하세요, 김철수! 어린이시군요!\n"
     ]
    }
   ],
   "source": [
    "kid1.greet()"
   ]
  },
  {
   "cell_type": "code",
   "execution_count": 7,
   "id": "1a49f251-e6b9-42dd-b6d0-0821cd1fc026",
   "metadata": {},
   "outputs": [
    {
     "name": "stdin",
     "output_type": "stream",
     "text": [
      "나이: 17\n",
      "이름: 박유리\n",
      "성별: female\n"
     ]
    }
   ],
   "source": [
    "kid2 = Person()"
   ]
  },
  {
   "cell_type": "code",
   "execution_count": 8,
   "id": "9ed51b1e-a91c-4130-a146-f6548667bb98",
   "metadata": {},
   "outputs": [
    {
     "name": "stdout",
     "output_type": "stream",
     "text": [
      "안녕하세요, 박유리! 청소년이시군요!\n"
     ]
    }
   ],
   "source": [
    "kid2.greet()"
   ]
  },
  {
   "cell_type": "code",
   "execution_count": null,
   "id": "c29a1a8c-eae2-4050-98e1-5071937a4974",
   "metadata": {},
   "outputs": [],
   "source": []
  }
 ],
 "metadata": {
  "kernelspec": {
   "display_name": "Python 3 (ipykernel)",
   "language": "python",
   "name": "python3"
  },
  "language_info": {
   "codemirror_mode": {
    "name": "ipython",
    "version": 3
   },
   "file_extension": ".py",
   "mimetype": "text/x-python",
   "name": "python",
   "nbconvert_exporter": "python",
   "pygments_lexer": "ipython3",
   "version": "3.11.7"
  }
 },
 "nbformat": 4,
 "nbformat_minor": 5
}
